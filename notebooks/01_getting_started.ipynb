{
 "cells": [
  {
   "cell_type": "markdown",
   "metadata": {},
   "source": [
    "# Bitcoin Blockchain Analysis - Getting Started\n",
    "\n",
    "This notebook demonstrates basic queries and analysis using the Bitcoin Analysis Stack."
   ]
  },
  {
   "cell_type": "code",
   "execution_count": null,
   "metadata": {},
   "outputs": [],
   "source": [
    "import os\n",
    "from bitcoinrpc.authproxy import AuthServiceProxy\n",
    "from py2neo import Graph\n",
    "from gql import gql, Client\n",
    "from gql.transport.requests import RequestsHTTPTransport\n",
    "import pandas as pd\n",
    "import matplotlib.pyplot as plt\n",
    "import networkx as nx\n",
    "\n",
    "# Configuration from environment\n",
    "BITCOIN_RPC = f\"http://{os.getenv('BITCOIN_RPC_USER')}:{os.getenv('BITCOIN_RPC_PASSWORD')}@{os.getenv('BITCOIN_RPC_HOST')}:{os.getenv('BITCOIN_RPC_PORT')}\"\n",
    "NEO4J_URI = os.getenv('NEO4J_URI')\n",
    "NEO4J_AUTH = (os.getenv('NEO4J_USER'), os.getenv('NEO4J_PASSWORD'))\n",
    "GRAPHQL_ENDPOINT = os.getenv('GRAPHQL_ENDPOINT')"
   ]
  },
  {
   "cell_type": "markdown",
   "metadata": {},
   "source": [
    "## 1. Connect to Bitcoin Core RPC"
   ]
  },
  {
   "cell_type": "code",
   "execution_count": null,
   "metadata": {},
   "outputs": [],
   "source": [
    "btc = AuthServiceProxy(BITCOIN_RPC)\n",
    "\n",
    "# Get blockchain info\n",
    "info = btc.getblockchaininfo()\n",
    "print(f\"Chain: {info['chain']}\")\n",
    "print(f\"Blocks: {info['blocks']:,}\")\n",
    "print(f\"Size on disk: {info['size_on_disk'] / 1e9:.2f} GB\")\n",
    "print(f\"Difficulty: {info['difficulty']:,.2f}\")"
   ]
  },
  {
   "cell_type": "markdown",
   "metadata": {},
   "source": [
    "## 2. Query a Specific Block"
   ]
  },
  {
   "cell_type": "code",
   "execution_count": null,
   "metadata": {},
   "outputs": [],
   "source": [
    "# Get genesis block\n",
    "genesis_hash = btc.getblockhash(0)\n",
    "genesis = btc.getblock(genesis_hash, 2)  # Verbosity 2 includes full tx details\n",
    "\n",
    "print(f\"Genesis Block Hash: {genesis['hash']}\")\n",
    "print(f\"Timestamp: {genesis['time']}\")\n",
    "print(f\"Number of transactions: {len(genesis['tx'])}\")\n",
    "\n",
    "# Show coinbase transaction\n",
    "coinbase_tx = genesis['tx'][0]\n",
    "print(f\"\\nCoinbase TX ID: {coinbase_tx['txid']}\")"
   ]
  },
  {
   "cell_type": "markdown",
   "metadata": {},
   "source": [
    "## 3. Connect to Neo4j Graph Database"
   ]
  },
  {
   "cell_type": "code",
   "execution_count": null,
   "metadata": {},
   "outputs": [],
   "source": [
    "graph = Graph(NEO4J_URI, auth=NEO4J_AUTH)\n",
    "\n",
    "# Check connection\n",
    "result = graph.run(\"MATCH (n) RETURN count(n) as node_count\").data()\n",
    "print(f\"Total nodes in graph: {result[0]['node_count']:,}\")"
   ]
  },
  {
   "cell_type": "markdown",
   "metadata": {},
   "source": [
    "## 4. Query Neo4j - Find Connected Addresses"
   ]
  },
  {
   "cell_type": "code",
   "execution_count": null,
   "metadata": {},
   "outputs": [],
   "source": [
    "# Example: Find most active addresses\n",
    "query = \"\"\"\n",
    "MATCH (a:Address)<-[r:OUTPUTS_TO]-(t:Transaction)\n",
    "RETURN a.address as address, count(t) as tx_count, sum(r.value) as total_received\n",
    "ORDER BY tx_count DESC\n",
    "LIMIT 10\n",
    "\"\"\"\n",
    "\n",
    "result = graph.run(query).data()\n",
    "df = pd.DataFrame(result)\n",
    "print(df)"
   ]
  },
  {
   "cell_type": "markdown",
   "metadata": {},
   "source": [
    "## 5. Use GraphQL API"
   ]
  },
  {
   "cell_type": "code",
   "execution_count": null,
   "metadata": {},
   "outputs": [],
   "source": [
    "# Setup GraphQL client\n",
    "transport = RequestsHTTPTransport(url=GRAPHQL_ENDPOINT)\n",
    "client = Client(transport=transport, fetch_schema_from_transport=True)\n",
    "\n",
    "# Query blockchain info\n",
    "query = gql(\"\"\"\n",
    "    query {\n",
    "        blockchainInfo {\n",
    "            blocks\n",
    "            chain\n",
    "            difficulty\n",
    "            sizeOnDisk\n",
    "        }\n",
    "    }\n",
    "\"\"\")\n",
    "\n",
    "result = client.execute(query)\n",
    "print(result)"
   ]
  },
  {
   "cell_type": "markdown",
   "metadata": {},
   "source": [
    "## 6. Visualize Transaction Graph"
   ]
  },
  {
   "cell_type": "code",
   "execution_count": null,
   "metadata": {},
   "outputs": [],
   "source": [
    "# Example: Visualize connections for a specific address\n",
    "# Replace with an actual address from your database\n",
    "\n",
    "def visualize_address_connections(address, max_connections=20):\n",
    "    query = f\"\"\"\n",
    "    MATCH (a1:Address {{address: '{address}'}})<-[:OUTPUTS_TO]-(t:Transaction)-[:OUTPUTS_TO]->(a2:Address)\n",
    "    WHERE a1 <> a2\n",
    "    RETURN a1.address as from_addr, a2.address as to_addr, count(t) as tx_count\n",
    "    LIMIT {max_connections}\n",
    "    \"\"\"\n",
    "    \n",
    "    result = graph.run(query).data()\n",
    "    \n",
    "    if not result:\n",
    "        print(f\"No connections found for address: {address}\")\n",
    "        return\n",
    "    \n",
    "    # Create NetworkX graph\n",
    "    G = nx.DiGraph()\n",
    "    \n",
    "    for record in result:\n",
    "        G.add_edge(record['from_addr'][:8], record['to_addr'][:8], weight=record['tx_count'])\n",
    "    \n",
    "    # Plot\n",
    "    plt.figure(figsize=(12, 8))\n",
    "    pos = nx.spring_layout(G)\n",
    "    nx.draw(G, pos, with_labels=True, node_color='lightblue', \n",
    "            node_size=1500, font_size=8, arrows=True)\n",
    "    plt.title(f\"Address Connections for {address[:16]}...\")\n",
    "    plt.show()\n",
    "\n",
    "# Example usage (uncomment when you have data):\n",
    "# visualize_address_connections('your_address_here')"
   ]
  },
  {
   "cell_type": "markdown",
   "metadata": {},
   "source": [
    "## 7. Analyze Block Statistics"
   ]
  },
  {
   "cell_type": "code",
   "execution_count": null,
   "metadata": {},
   "outputs": [],
   "source": [
    "# Analyze last 100 blocks\n",
    "current_height = btc.getblockcount()\n",
    "block_stats = []\n",
    "\n",
    "for height in range(current_height - 100, current_height):\n",
    "    block_hash = btc.getblockhash(height)\n",
    "    block = btc.getblock(block_hash, 1)\n",
    "    \n",
    "    block_stats.append({\n",
    "        'height': height,\n",
    "        'size': block['size'],\n",
    "        'tx_count': len(block['tx']),\n",
    "        'time': block['time']\n",
    "    })\n",
    "\n",
    "df_blocks = pd.DataFrame(block_stats)\n",
    "\n",
    "# Plot\n",
    "fig, axes = plt.subplots(2, 1, figsize=(12, 8))\n",
    "\n",
    "axes[0].plot(df_blocks['height'], df_blocks['size'])\n",
    "axes[0].set_title('Block Size')\n",
    "axes[0].set_xlabel('Block Height')\n",
    "axes[0].set_ylabel('Size (bytes)')\n",
    "\n",
    "axes[1].plot(df_blocks['height'], df_blocks['tx_count'], color='orange')\n",
    "axes[1].set_title('Transactions per Block')\n",
    "axes[1].set_xlabel('Block Height')\n",
    "axes[1].set_ylabel('TX Count')\n",
    "\n",
    "plt.tight_layout()\n",
    "plt.show()\n",
    "\n",
    "print(f\"\\nAverage block size: {df_blocks['size'].mean():,.0f} bytes\")\n",
    "print(f\"Average transactions per block: {df_blocks['tx_count'].mean():.1f}\")"
   ]
  }
 ],
 "metadata": {
  "kernelspec": {
   "display_name": "Python 3",
   "language": "python",
   "name": "python3"
  },
  "language_info": {
   "codemirror_mode": {
    "name": "ipython",
    "version": 3
   },
   "file_extension": ".py",
   "mimetype": "text/x-python",
   "name": "python",
   "nbconvert_exporter": "python",
   "pygments_lexer": "ipython3",
   "version": "3.11.0"
  }
 },
 "nbformat": 4,
 "nbformat_minor": 4
}
